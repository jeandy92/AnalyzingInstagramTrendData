{
 "cells": [
  {
   "attachments": {},
   "cell_type": "markdown",
   "metadata": {},
   "source": [
    "# Analyzing Instagram trend data\n",
    "\n",
    "## Our analysis subjects:\n",
    "\n",
    "1. The most profiles per city?\n",
    "2. The most posts per city?\n",
    "3. The most posts per profile?\n",
    "4. The most likes per profile?\n"
   ]
  },
  {
   "attachments": {},
   "cell_type": "markdown",
   "metadata": {},
   "source": [
    "## Verificando versão python"
   ]
  },
  {
   "cell_type": "code",
   "execution_count": 1,
   "metadata": {},
   "outputs": [
    {
     "name": "stdout",
     "output_type": "stream",
     "text": [
      "Versao da Linguagem Python Usada neste Jupyter Notebook 3.9.1\n"
     ]
    }
   ],
   "source": [
    "#Versao da Linguagem Python\n",
    "from platform import python_version\n",
    "print('Versao da Linguagem Python Usada neste Jupyter Notebook', python_version())"
   ]
  },
  {
   "attachments": {},
   "cell_type": "markdown",
   "metadata": {},
   "source": [
    "## Particionando arquivo posts \n"
   ]
  },
  {
   "cell_type": "code",
   "execution_count": null,
   "metadata": {},
   "outputs": [],
   "source": [
    "import os\n",
    "import shutil\n",
    "import csv\n",
    "\n",
    "# caminho do arquivo grande\n",
    "file_path = r'E:\\Kaggle\\input\\Instagram\\instagram_posts.csv'\n",
    "\n",
    "# tamanho de cada arquivo menor em bytes\n",
    "chunk_size = 10000000\n",
    "\n",
    "# abrir arquivo grande em modo texto\n",
    "with open(file_path, 'r', newline='', encoding='utf-8') as f:\n",
    "    # criar leitor CSV\n",
    "    reader = csv.reader(f)\n",
    "    # ler cabeçalho\n",
    "    header = next(reader)\n",
    "    # inicializar contador de chunk\n",
    "    chunk_num = 0\n",
    "    while True:\n",
    "        # ler chunk do arquivo\n",
    "        chunk = ''\n",
    "        current_size = 0\n",
    "        for row in reader:\n",
    "            row_str = ','.join(row) + '\\n'\n",
    "            row_size = len(row_str.encode('utf-8'))\n",
    "            if current_size + row_size > chunk_size:\n",
    "                break\n",
    "            chunk += row_str\n",
    "            current_size += row_size\n",
    "        else:\n",
    "            # fim do arquivo, sair do loop\n",
    "            if not chunk:\n",
    "                break\n",
    "        # nome do arquivo de chunk\n",
    "        chunk_name = f'{os.path.splitext(file_path)[0]}_{chunk_num}.csv'\n",
    "        # criar arquivo de chunk e escrever cabeçalho e chunk nele\n",
    "        with open(chunk_name, 'w', newline='', encoding='utf-8') as chunk_file:\n",
    "            writer = csv.writer(chunk_file)\n",
    "            writer.writerow(header)\n",
    "            chunk_file.write(chunk)\n",
    "        # incrementar contador de chunk\n",
    "        chunk_num += 1"
   ]
  },
  {
   "attachments": {},
   "cell_type": "markdown",
   "metadata": {},
   "source": [
    "## Carregando dataframes e definindo schemas"
   ]
  },
  {
   "cell_type": "code",
   "execution_count": 2,
   "metadata": {},
   "outputs": [],
   "source": [
    "#Importando o módulo csv\n",
    "import pandas as pd\n",
    "import numpy  as np\n",
    "\n",
    "def location_schema():\n",
    "    schema = pd.DataFrame({\n",
    "        \"sid\": pd.Series(dtype=\"Int64\"),\n",
    "        \"id\": pd.Series(dtype=\"Int64\"),\n",
    "        \"name\": pd.Series(dtype=\"string\"),\n",
    "        \"street\": pd.Series(dtype=\"string\"),\n",
    "        \"zip\": pd.Series(dtype=\"string\"),\n",
    "        \"city\": pd.Series(dtype=\"string\"),\n",
    "        \"region\": pd.Series(dtype=\"string\"),\n",
    "        \"cd\": pd.Series(dtype=\"string\"),\n",
    "        \"phone\": pd.Series(dtype=\"string\"),\n",
    "        \"aj_exact_city_match\": pd.Series(dtype=\"string\"),\n",
    "        \"aj_exact_country_match\": pd.Series(dtype=\"string\"),\n",
    "        \"blurb\": pd.Series(dtype=\"string\"),\n",
    "        \"dir_city_id\": pd.Series(dtype=\"string\"),\n",
    "        \"dir_city_name\": pd.Series(dtype=\"string\"),\n",
    "        \"dir_city_slug\": pd.Series(dtype=\"string\"),\n",
    "        \"dir_country_id\": pd.Series(dtype=\"string\"),\n",
    "        \"dir_country_name\": pd.Series(dtype=\"string\"),\n",
    "        \"lat\": pd.Series(dtype=\"string\"),\n",
    "        \"lng\": pd.Series(dtype=\"string\"),\n",
    "        \"primary_alias_on_fb\": pd.Series(dtype=\"string\"),\n",
    "        \"slug\": pd.Series(dtype=\"string\"),\n",
    "        \"website\": pd.Series(dtype=\"string\"),\n",
    "        \"cts\": pd.Series(dtype=\"string\")\n",
    "    })\n",
    "    return schema\n",
    "\n",
    "def profile_schema():\n",
    "    schema = pd.DataFrame({\n",
    "        \"sid\": pd.Series(dtype=\"Int64\"),\n",
    "        \"profile_id\": pd.Series(dtype=\"Int64\"),\n",
    "        \"profile_name\": pd.Series(dtype=\"string\"),\n",
    "        \"firstname_lastname\": pd.Series(dtype=\"string\"),\n",
    "        \"description\": pd.Series(dtype=\"string\"),\n",
    "        \"following\": pd.Series(dtype=\"string\"),\n",
    "        \"followers\": pd.Series(dtype=\"string\"),\n",
    "        \"n_posts\": pd.Series(dtype=\"string\"),\n",
    "        \"url\": pd.Series(dtype=\"string\"),\n",
    "        \"cts\": pd.Series(dtype=\"string\"),\n",
    "        \"is_business_account\": pd.Series(dtype=\"string\")\n",
    "    })\n",
    "    return schema\n",
    "\n",
    "def post_schema():\n",
    "    schema = pd.DataFrame({\n",
    "        \"sid\": pd.Series(dtype=\"Int64\"),\n",
    "        \"sid_profile\": pd.Series(dtype=\"string\"),\n",
    "        \"post_id\": pd.Series(dtype=\"string\"),\n",
    "        \"profile_id\": pd.Series(dtype=\"string\"),\n",
    "        \"location_id\": pd.Series(dtype=\"string\"),\n",
    "        \"cts\": pd.Series(dtype=\"string\"),\n",
    "        \"post_type\": pd.Series(dtype=\"string\"),\n",
    "        \"description\": pd.Series(dtype=\"string\"),\n",
    "        \"numbr_likes\": pd.Series(dtype=\"string\"),\n",
    "        \"number_comments\": pd.Series(dtype=\"string\")\n",
    "    })\n",
    "    return schema"
   ]
  },
  {
   "cell_type": "code",
   "execution_count": 7,
   "metadata": {},
   "outputs": [],
   "source": [
    "#Reading csv and put the information inside of data frame \n",
    "profile_file = r'E:\\Kaggle\\input\\Instagram\\instagram_profiles.csv'\n",
    "cities_file  = r'E:\\Kaggle\\input\\Instagram\\instagram_locations.csv'\n",
    "posts_file   = r'E:\\Kaggle\\input\\Instagram\\instagram_posts_1.csv'\n",
    "ec = 'latin'\n",
    "delimiter = '\\t'\n",
    "\n",
    "df_cities   = pd.read_csv(cities_file\n",
    ",delimiter=delimiter\n",
    ",encoding=ec)\n",
    "\n",
    "df_profiles = pd.read_csv(profile_file\n",
    ",delimiter=delimiter\n",
    ",encoding=ec)\n",
    "\n",
    "df_posts = pd.DataFrame()\n",
    "\n",
    "for chunk in pd.read_csv( posts_file\n",
    "    ,delimiter=delimiter #delimter\n",
    "    ,encoding=ec #encoding\n",
    "    ,error_bad_lines=False #Exlude badlines\n",
    "    ,names=['sid','sid_profile','post_id','profile_id','location_id','cts','post_type','description','numbr_likes','number_comments'] \n",
    "    ,header=0#header\n",
    "    ,quotechar='\"'\n",
    "    ,chunksize=1000000 #Leitura de arquivo particionado\n",
    "    #,dtype=post_schema() #Aplica scheam\n",
    "    ):\n",
    "    chunk = chunk.astype(post_schema().dtypes) #Aplica o schema em cada pedaco(chunk do arquivo)\n",
    "    df_posts = pd.concat([df_posts,chunk])# Reune todos os pedacos no data frame principal\n",
    "\n",
    "\n"
   ]
  },
  {
   "attachments": {},
   "cell_type": "markdown",
   "metadata": {},
   "source": [
    "## Aplicando schema nos dataframes\n"
   ]
  },
  {
   "cell_type": "code",
   "execution_count": 4,
   "metadata": {},
   "outputs": [
    {
     "ename": "AttributeError",
     "evalue": "'TextFileReader' object has no attribute 'astype'",
     "output_type": "error",
     "traceback": [
      "\u001b[1;31m---------------------------------------------------------------------------\u001b[0m",
      "\u001b[1;31mAttributeError\u001b[0m                            Traceback (most recent call last)",
      "\u001b[1;32mc:\\Users\\jeanc\\PycharmProjects\\pythonProject\\InstagramProject\\InstagramIndexes.ipynb Cell 10\u001b[0m in \u001b[0;36m<cell line: 3>\u001b[1;34m()\u001b[0m\n\u001b[0;32m      <a href='vscode-notebook-cell:/c%3A/Users/jeanc/PycharmProjects/pythonProject/InstagramProject/InstagramIndexes.ipynb#X12sZmlsZQ%3D%3D?line=0'>1</a>\u001b[0m df_cities \u001b[39m=\u001b[39m df_cities\u001b[39m.\u001b[39mastype(location_schema()\u001b[39m.\u001b[39mdtypes)\n\u001b[0;32m      <a href='vscode-notebook-cell:/c%3A/Users/jeanc/PycharmProjects/pythonProject/InstagramProject/InstagramIndexes.ipynb#X12sZmlsZQ%3D%3D?line=1'>2</a>\u001b[0m df_profiles \u001b[39m=\u001b[39m df_profiles\u001b[39m.\u001b[39mastype(profile_schema()\u001b[39m.\u001b[39mdtypes)\n\u001b[1;32m----> <a href='vscode-notebook-cell:/c%3A/Users/jeanc/PycharmProjects/pythonProject/InstagramProject/InstagramIndexes.ipynb#X12sZmlsZQ%3D%3D?line=2'>3</a>\u001b[0m df_posts \u001b[39m=\u001b[39m df_posts\u001b[39m.\u001b[39;49mastype(post_schema()\u001b[39m.\u001b[39mdtypes)\n",
      "\u001b[1;31mAttributeError\u001b[0m: 'TextFileReader' object has no attribute 'astype'"
     ]
    }
   ],
   "source": [
    "df_cities = df_cities.astype(location_schema().dtypes)\n",
    "df_profiles = df_profiles.astype(profile_schema().dtypes)\n",
    "df_posts = df_posts.astype(post_schema().dtypes)"
   ]
  },
  {
   "attachments": {},
   "cell_type": "markdown",
   "metadata": {},
   "source": [
    "## The most profiles per city"
   ]
  },
  {
   "cell_type": "code",
   "execution_count": null,
   "metadata": {},
   "outputs": [],
   "source": [
    "city_group = df_cities.groupby('city').agg({'id':'count'})\n",
    "city_group = city_group.sort_values(by='id', ascending =False).rename(columns={'id':'QTD_PROFILES','city':'CITY'})\n",
    "\n",
    "city_group.head()"
   ]
  },
  {
   "attachments": {},
   "cell_type": "markdown",
   "metadata": {},
   "source": [
    "## The most posts per city"
   ]
  },
  {
   "cell_type": "code",
   "execution_count": null,
   "metadata": {},
   "outputs": [],
   "source": [
    "#Removendo linhas nulas para realizar o relacionamento\n",
    "#Observe que o parâmetro errors='coerce' é usado no método to_numeric(). \n",
    "# Isso faz com que os valores que não puderem ser convertidos em números sejam convertidos em NaN\n",
    "df_posts['sid'] = pd.to_numeric(df_posts['sid'],errors='coerce') \n",
    "df_posts = df_posts.dropna(subset=['sid'])\n",
    "\n",
    "#Fazendo join pelo sid\n",
    "merged_df = pd.merge(df_cities,df_posts, on='sid', how='inner')\n",
    "merged_df.head()\n",
    "\n",
    "\n",
    "#posts_group = df_posts.groupby('sid').agg({'post_id':'count'})\n",
    "#posts_group= posts_group.sort_values(by='post_id',ascending=True).rename(columns={'post_id':'QTD_POSTS'})\n",
    "\n"
   ]
  }
 ],
 "metadata": {
  "kernelspec": {
   "display_name": "Python 3",
   "language": "python",
   "name": "python3"
  },
  "language_info": {
   "codemirror_mode": {
    "name": "ipython",
    "version": 3
   },
   "file_extension": ".py",
   "mimetype": "text/x-python",
   "name": "python",
   "nbconvert_exporter": "python",
   "pygments_lexer": "ipython3",
   "version": "3.9.1"
  },
  "orig_nbformat": 4,
  "vscode": {
   "interpreter": {
    "hash": "a6014c9712583ffa1822ae00666c29beffde09c2795b53b866bbae53c79cb846"
   }
  }
 },
 "nbformat": 4,
 "nbformat_minor": 2
}
